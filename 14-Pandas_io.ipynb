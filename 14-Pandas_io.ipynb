{
 "cells": [
  {
   "cell_type": "markdown",
   "id": "4dff3912-cbea-4a22-8795-39601079a489",
   "metadata": {},
   "source": [
    "### Pandas ile Veri Kaynakların Bağlanma\n",
    "* read_ ile başlayanlar okuyoruz. to_ ile başlayanlarla yazıyoruz."
   ]
  },
  {
   "cell_type": "code",
   "execution_count": 1,
   "id": "3276fbfc-ac54-43b5-8ef4-5d68bf56ff34",
   "metadata": {},
   "outputs": [],
   "source": [
    "# Yas kolonundan önce boşluk var.\n",
    "# Veli öncesi bir satır boş geçilmiş.\n",
    "# Tarih kolonu var.\n",
    "# ondalık ayracı , olan bir değer var\n",
    "# boş geçilmiş alanlar var\n",
    "# boş geçilmiş alanlar için Yok ifadesi kullanılmış.\n",
    "\n",
    "metin = '''\n",
    "Ad|Soyad| Yas|Tarih|Kilo\n",
    "Ahmet|Örnek|80|2022-03-24|70,2\n",
    "Ümit|Veri|55|2022-03-23|\n",
    "\n",
    "Veli|Çalışkan|30|Yok|Yok\n",
    "'''"
   ]
  },
  {
   "cell_type": "code",
   "execution_count": 2,
   "id": "daf09ce5-d43c-4600-86ed-edabea686e7b",
   "metadata": {},
   "outputs": [
    {
     "name": "stdout",
     "output_type": "stream",
     "text": [
      "\n",
      "Ad|Soyad| Yas|Tarih|Kilo\n",
      "Ahmet|Örnek|80|2022-03-24|70,2\n",
      "Ümit|Veri|55|2022-03-23|\n",
      "\n",
      "Veli|Çalışkan|30|Yok|Yok\n",
      "\n"
     ]
    }
   ],
   "source": [
    "import io\n",
    "print(io.StringIO(metin).read())"
   ]
  },
  {
   "cell_type": "markdown",
   "id": "c958370b-70df-499b-9c80-6f9f39daa1bc",
   "metadata": {},
   "source": [
    "### Pandas ile CSV okuma"
   ]
  },
  {
   "cell_type": "code",
   "execution_count": 3,
   "id": "431170d5-2dd0-4f29-9da2-2483998c65c4",
   "metadata": {},
   "outputs": [],
   "source": [
    "import numpy as np\n",
    "import pandas as pd"
   ]
  },
  {
   "cell_type": "code",
   "execution_count": 4,
   "id": "742458bf-4399-48cd-b07e-ea1facc096d5",
   "metadata": {},
   "outputs": [
    {
     "data": {
      "text/html": [
       "<div>\n",
       "<style scoped>\n",
       "    .dataframe tbody tr th:only-of-type {\n",
       "        vertical-align: middle;\n",
       "    }\n",
       "\n",
       "    .dataframe tbody tr th {\n",
       "        vertical-align: top;\n",
       "    }\n",
       "\n",
       "    .dataframe thead th {\n",
       "        text-align: right;\n",
       "    }\n",
       "</style>\n",
       "<table border=\"1\" class=\"dataframe\">\n",
       "  <thead>\n",
       "    <tr style=\"text-align: right;\">\n",
       "      <th></th>\n",
       "      <th>Ad</th>\n",
       "      <th>Soyad</th>\n",
       "      <th>Yas</th>\n",
       "      <th>Tarih</th>\n",
       "      <th>Kilo</th>\n",
       "    </tr>\n",
       "  </thead>\n",
       "  <tbody>\n",
       "    <tr>\n",
       "      <th>0</th>\n",
       "      <td>Ahmet</td>\n",
       "      <td>Örnek</td>\n",
       "      <td>80</td>\n",
       "      <td>2022-03-24</td>\n",
       "      <td>70,2</td>\n",
       "    </tr>\n",
       "    <tr>\n",
       "      <th>1</th>\n",
       "      <td>Ümit</td>\n",
       "      <td>Veri</td>\n",
       "      <td>55</td>\n",
       "      <td>2022-03-23</td>\n",
       "      <td>NaN</td>\n",
       "    </tr>\n",
       "    <tr>\n",
       "      <th>2</th>\n",
       "      <td>Veli</td>\n",
       "      <td>Çalışkan</td>\n",
       "      <td>30</td>\n",
       "      <td>Yok</td>\n",
       "      <td>Yok</td>\n",
       "    </tr>\n",
       "  </tbody>\n",
       "</table>\n",
       "</div>"
      ],
      "text/plain": [
       "      Ad     Soyad   Yas       Tarih  Kilo\n",
       "0  Ahmet     Örnek    80  2022-03-24  70,2\n",
       "1   Ümit      Veri    55  2022-03-23   NaN\n",
       "2   Veli  Çalışkan    30         Yok   Yok"
      ]
     },
     "execution_count": 4,
     "metadata": {},
     "output_type": "execute_result"
    }
   ],
   "source": [
    "pd.read_csv(io.StringIO(metin),\n",
    "           delimiter=\"|\",\n",
    "        # sep= \"|\"\n",
    "           )"
   ]
  },
  {
   "cell_type": "code",
   "execution_count": 5,
   "id": "6bbbd8e8-00b6-4daf-a0ed-2554218ac1b4",
   "metadata": {},
   "outputs": [
    {
     "name": "stdout",
     "output_type": "stream",
     "text": [
      "<class 'pandas.core.frame.DataFrame'>\n",
      "Index: 3 entries, Ahmet to Veli\n",
      "Data columns (total 4 columns):\n",
      " #   Column  Non-Null Count  Dtype         \n",
      "---  ------  --------------  -----         \n",
      " 0   Soyad   3 non-null      object        \n",
      " 1   Yas     3 non-null      int8          \n",
      " 2   Tarih   2 non-null      datetime64[ns]\n",
      " 3   Kilo    1 non-null      float16       \n",
      "dtypes: datetime64[ns](1), float16(1), int8(1), object(1)\n",
      "memory usage: 81.0+ bytes\n"
     ]
    }
   ],
   "source": [
    "df = pd.read_csv(io.StringIO(metin),\n",
    "                 delimiter=\"|\",\n",
    "                 #usecols=[\"Ad\", \"Soyad\"], #istediğimiz kolonlar\n",
    "                 skipinitialspace=True, #kolon adlarındaki boşluklar görmezden gelinir.\n",
    "                 #usecols=[\"Ad\",\"Yas\"]\n",
    "                 #skiprows=1,\n",
    "                 #skipfooter=1,\n",
    "                 #skip_blank_lines=False,\n",
    "                 na_values={\"Yok\"}, # Yok ifadesi NaN olacak\n",
    "                 decimal=\",\", # floata çevirme\n",
    "                 index_col=[\"Ad\"], # index etiketi\n",
    "                 parse_dates=['Tarih'],\n",
    "                 dtype={\n",
    "                         \"Ad\":str,\n",
    "                         \"Soyad\":str,\n",
    "                         \"Yas\":np.int8,\n",
    "                         \"Kilo\":np.float16\n",
    "                 }\n",
    "\n",
    "           )\n",
    "df\n",
    "df.info()"
   ]
  },
  {
   "cell_type": "markdown",
   "id": "15b0a084-4c35-43c4-adc1-632d229cad23",
   "metadata": {},
   "source": [
    "#### to_csv ile yazalım"
   ]
  },
  {
   "cell_type": "code",
   "execution_count": 6,
   "id": "fa122789-3ae5-4251-b0d7-6e644cd6aa3e",
   "metadata": {},
   "outputs": [],
   "source": [
    "import os\n",
    "\n",
    "os.makedirs(\"databases\", exist_ok=True) # klasör oluşturma"
   ]
  },
  {
   "cell_type": "code",
   "execution_count": 7,
   "id": "43b116ba-b710-4772-9214-02fb1bda0d63",
   "metadata": {},
   "outputs": [],
   "source": [
    "df.to_csv(\"databases/kisiler.csv\")"
   ]
  },
  {
   "cell_type": "markdown",
   "id": "c8982053-f55d-440f-bbd0-53e2f090f3cd",
   "metadata": {},
   "source": [
    "#### converter\n",
    "* belirtilen kolonda verilen fonksiyonu çalıştırır.\n",
    "* veri temizliği için kullanılabilir. okurken temizlik yapabiliriz."
   ]
  },
  {
   "cell_type": "code",
   "execution_count": 8,
   "id": "f93cdac6-18b8-4edb-8193-70fa7eebbc69",
   "metadata": {},
   "outputs": [
    {
     "data": {
      "text/html": [
       "<div>\n",
       "<style scoped>\n",
       "    .dataframe tbody tr th:only-of-type {\n",
       "        vertical-align: middle;\n",
       "    }\n",
       "\n",
       "    .dataframe tbody tr th {\n",
       "        vertical-align: top;\n",
       "    }\n",
       "\n",
       "    .dataframe thead th {\n",
       "        text-align: right;\n",
       "    }\n",
       "</style>\n",
       "<table border=\"1\" class=\"dataframe\">\n",
       "  <thead>\n",
       "    <tr style=\"text-align: right;\">\n",
       "      <th></th>\n",
       "      <th>Ad</th>\n",
       "      <th>Soyad</th>\n",
       "      <th>Yas</th>\n",
       "      <th>Tarih</th>\n",
       "      <th>Kilo</th>\n",
       "    </tr>\n",
       "  </thead>\n",
       "  <tbody>\n",
       "    <tr>\n",
       "      <th>0</th>\n",
       "      <td>Ahmet</td>\n",
       "      <td>ÖRNEK</td>\n",
       "      <td>80</td>\n",
       "      <td>2022-03-24</td>\n",
       "      <td>70.2</td>\n",
       "    </tr>\n",
       "    <tr>\n",
       "      <th>1</th>\n",
       "      <td>Ümit</td>\n",
       "      <td>VERI</td>\n",
       "      <td>55</td>\n",
       "      <td>2022-03-23</td>\n",
       "      <td>NaN</td>\n",
       "    </tr>\n",
       "    <tr>\n",
       "      <th>2</th>\n",
       "      <td>Veli</td>\n",
       "      <td>ÇALIŞKAN</td>\n",
       "      <td>30</td>\n",
       "      <td>NaN</td>\n",
       "      <td>NaN</td>\n",
       "    </tr>\n",
       "  </tbody>\n",
       "</table>\n",
       "</div>"
      ],
      "text/plain": [
       "      Ad     Soyad  Yas       Tarih  Kilo\n",
       "0  Ahmet     ÖRNEK   80  2022-03-24  70.2\n",
       "1   Ümit      VERI   55  2022-03-23   NaN\n",
       "2   Veli  ÇALIŞKAN   30         NaN   NaN"
      ]
     },
     "execution_count": 8,
     "metadata": {},
     "output_type": "execute_result"
    }
   ],
   "source": [
    "pd.read_csv(\"databases/kisiler.csv\",\n",
    "           converters={\"Soyad\":str.upper} # soyad kolonundaki değerler str.upper fonksiyonuna parametre olarak gelir\n",
    "           )"
   ]
  },
  {
   "cell_type": "code",
   "execution_count": 9,
   "id": "4de4c250-14ae-41e9-8b8f-f169bb69fd0a",
   "metadata": {},
   "outputs": [
    {
     "data": {
      "text/html": [
       "<div>\n",
       "<style scoped>\n",
       "    .dataframe tbody tr th:only-of-type {\n",
       "        vertical-align: middle;\n",
       "    }\n",
       "\n",
       "    .dataframe tbody tr th {\n",
       "        vertical-align: top;\n",
       "    }\n",
       "\n",
       "    .dataframe thead th {\n",
       "        text-align: right;\n",
       "    }\n",
       "</style>\n",
       "<table border=\"1\" class=\"dataframe\">\n",
       "  <thead>\n",
       "    <tr style=\"text-align: right;\">\n",
       "      <th></th>\n",
       "      <th>Ad</th>\n",
       "      <th>Soyad</th>\n",
       "      <th>Yas</th>\n",
       "      <th>Tarih</th>\n",
       "      <th>Kilo</th>\n",
       "    </tr>\n",
       "  </thead>\n",
       "  <tbody>\n",
       "    <tr>\n",
       "      <th>0</th>\n",
       "      <td>Ahmet</td>\n",
       "      <td>Örnek</td>\n",
       "      <td>80</td>\n",
       "      <td>2022-03-24</td>\n",
       "      <td>70.2</td>\n",
       "    </tr>\n",
       "    <tr>\n",
       "      <th>1</th>\n",
       "      <td>Ümit</td>\n",
       "      <td>Veri</td>\n",
       "      <td>55</td>\n",
       "      <td>2022-03-23</td>\n",
       "      <td>NaN</td>\n",
       "    </tr>\n",
       "    <tr>\n",
       "      <th>2</th>\n",
       "      <td>Veli</td>\n",
       "      <td>Çalışkan</td>\n",
       "      <td>30</td>\n",
       "      <td>NaN</td>\n",
       "      <td>NaN</td>\n",
       "    </tr>\n",
       "  </tbody>\n",
       "</table>\n",
       "</div>"
      ],
      "text/plain": [
       "      Ad     Soyad  Yas       Tarih  Kilo\n",
       "0  Ahmet     Örnek   80  2022-03-24  70.2\n",
       "1   Ümit      Veri   55  2022-03-23   NaN\n",
       "2   Veli  Çalışkan   30         NaN   NaN"
      ]
     },
     "execution_count": 9,
     "metadata": {},
     "output_type": "execute_result"
    }
   ],
   "source": [
    "#örn:\n",
    "#soyadları düzeltelim. \"Uçan\":\"Uçanlar\", \"Kaçan\":\"Kaçanoğulları\"\n",
    "\n",
    "temizlikKurali = {\"Uçan\":\"Uçanlar\", \"Kaçan\":\"Kaçanoğulları\"}\n",
    "\n",
    "pd.read_csv(\"databases/kisiler.csv\",\n",
    "           converters= {\"Soyad\":lambda  v: temizlikKurali[v] if temizlikKurali.get(v) else v}\n",
    "           )"
   ]
  },
  {
   "cell_type": "markdown",
   "id": "4ceba4ed-4735-47ce-b762-4d5b434c42ca",
   "metadata": {},
   "source": [
    "#### Excel'e bağlanmak"
   ]
  },
  {
   "cell_type": "code",
   "execution_count": 20,
   "id": "3c78fd9c-9338-47f7-ad8d-356b3f92f2e1",
   "metadata": {},
   "outputs": [
    {
     "data": {
      "text/plain": [
       "{'kisiler':                Id     Ad     Soyad  Yas      Tarih  Kilo\n",
       " 0               1  Ahmet     Örnek   15 2022-03-24  70.2\n",
       " 1               2   Ümit      Veri   22 2022-03-23   NaN\n",
       " 2               3   Veli  Çalışkan   55        NaT   NaN,\n",
       " 'Boş': Empty DataFrame\n",
       " Columns: []\n",
       " Index: []}"
      ]
     },
     "execution_count": 20,
     "metadata": {},
     "output_type": "execute_result"
    }
   ],
   "source": [
    "df_dict = pd.read_excel(\"databases/mykisiler.xlsx\",\n",
    "             sheet_name=None #tüm sayfalar okunur. sayfa adı verilebilir.\n",
    "             )\n",
    "df_dict"
   ]
  },
  {
   "cell_type": "code",
   "execution_count": 21,
   "id": "2030fb00-5b08-465c-8e3e-cceea5acaafd",
   "metadata": {},
   "outputs": [
    {
     "data": {
      "text/html": [
       "<div>\n",
       "<style scoped>\n",
       "    .dataframe tbody tr th:only-of-type {\n",
       "        vertical-align: middle;\n",
       "    }\n",
       "\n",
       "    .dataframe tbody tr th {\n",
       "        vertical-align: top;\n",
       "    }\n",
       "\n",
       "    .dataframe thead th {\n",
       "        text-align: right;\n",
       "    }\n",
       "</style>\n",
       "<table border=\"1\" class=\"dataframe\">\n",
       "  <thead>\n",
       "    <tr style=\"text-align: right;\">\n",
       "      <th></th>\n",
       "      <th>Id</th>\n",
       "      <th>Ad</th>\n",
       "      <th>Soyad</th>\n",
       "      <th>Yas</th>\n",
       "      <th>Tarih</th>\n",
       "      <th>Kilo</th>\n",
       "    </tr>\n",
       "  </thead>\n",
       "  <tbody>\n",
       "    <tr>\n",
       "      <th>0</th>\n",
       "      <td>1</td>\n",
       "      <td>Ahmet</td>\n",
       "      <td>Örnek</td>\n",
       "      <td>15</td>\n",
       "      <td>2022-03-24</td>\n",
       "      <td>70.2</td>\n",
       "    </tr>\n",
       "    <tr>\n",
       "      <th>1</th>\n",
       "      <td>2</td>\n",
       "      <td>Ümit</td>\n",
       "      <td>Veri</td>\n",
       "      <td>22</td>\n",
       "      <td>2022-03-23</td>\n",
       "      <td>NaN</td>\n",
       "    </tr>\n",
       "    <tr>\n",
       "      <th>2</th>\n",
       "      <td>3</td>\n",
       "      <td>Veli</td>\n",
       "      <td>Çalışkan</td>\n",
       "      <td>55</td>\n",
       "      <td>NaT</td>\n",
       "      <td>NaN</td>\n",
       "    </tr>\n",
       "  </tbody>\n",
       "</table>\n",
       "</div>"
      ],
      "text/plain": [
       "               Id     Ad     Soyad  Yas      Tarih  Kilo\n",
       "0               1  Ahmet     Örnek   15 2022-03-24  70.2\n",
       "1               2   Ümit      Veri   22 2022-03-23   NaN\n",
       "2               3   Veli  Çalışkan   55        NaT   NaN"
      ]
     },
     "execution_count": 21,
     "metadata": {},
     "output_type": "execute_result"
    }
   ],
   "source": [
    "df_dict[\"kisiler\"]"
   ]
  },
  {
   "cell_type": "code",
   "execution_count": 22,
   "id": "ac8d2de5-f52e-461a-9666-7fbca8206889",
   "metadata": {},
   "outputs": [
    {
     "data": {
      "text/html": [
       "<div>\n",
       "<style scoped>\n",
       "    .dataframe tbody tr th:only-of-type {\n",
       "        vertical-align: middle;\n",
       "    }\n",
       "\n",
       "    .dataframe tbody tr th {\n",
       "        vertical-align: top;\n",
       "    }\n",
       "\n",
       "    .dataframe thead th {\n",
       "        text-align: right;\n",
       "    }\n",
       "</style>\n",
       "<table border=\"1\" class=\"dataframe\">\n",
       "  <thead>\n",
       "    <tr style=\"text-align: right;\">\n",
       "      <th></th>\n",
       "    </tr>\n",
       "  </thead>\n",
       "  <tbody>\n",
       "  </tbody>\n",
       "</table>\n",
       "</div>"
      ],
      "text/plain": [
       "Empty DataFrame\n",
       "Columns: []\n",
       "Index: []"
      ]
     },
     "execution_count": 22,
     "metadata": {},
     "output_type": "execute_result"
    }
   ],
   "source": [
    "df_dict[\"Boş\"]"
   ]
  },
  {
   "cell_type": "code",
   "execution_count": 13,
   "id": "2c0dc040-39d8-44ef-b073-34c6219d0845",
   "metadata": {},
   "outputs": [],
   "source": [
    "#https://archive.ics.uci.edu/ml/machine-learning-databases/auto-mpg/auto-mpg.data"
   ]
  },
  {
   "cell_type": "code",
   "execution_count": null,
   "id": "ee19458f-d31f-4354-a162-884ee82a5c6f",
   "metadata": {},
   "outputs": [],
   "source": []
  },
  {
   "cell_type": "markdown",
   "id": "31f50629-3ea6-4a0b-aca4-b2e2cab40981",
   "metadata": {},
   "source": [
    "### RDBMS'e Bağlanmak\n",
    "\n",
    "* `read_sql_query`: DBAPI destekliyor. `pyodbc` kullanabiliriz. `sqlachemy` ile çalışabilir. SQL sorgusu ister\n",
    "* `read_sql`: DBAPI destekliyor. `pyodbc` kullanabiliriz. `sqlachemy` ile çalışabilir. Diğer iki fonksiyonu kapsar. SQL sorgusu veya tablo adı\n",
    "* `read_sql_table`: `sqlalchemy` ile çalışır. sql tablosu ister\n",
    "\n",
    "**Not:**\n",
    "* `DBAPI` diğer tüm RDBMS'lere bağlanan kütüphanelerin alt yapısıdır.\n",
    "* `sqlachemy` populer bir ORM (Object Relational Mapping) kütüphanesidir. Veritabanı nesneleri yazılım nesneleri olarak temsil edilir. \n"
   ]
  },
  {
   "cell_type": "markdown",
   "id": "cba12a70-8ca1-44c1-9f7b-d094502d9f9b",
   "metadata": {},
   "source": [
    "### DBAPI ile"
   ]
  },
  {
   "cell_type": "code",
   "execution_count": 15,
   "id": "14787ae4-13d5-4328-a43b-573a94283df2",
   "metadata": {},
   "outputs": [
    {
     "data": {
      "text/plain": [
       "['SQL Server',\n",
       " 'Microsoft Access Driver (*.mdb, *.accdb)',\n",
       " 'Microsoft Excel Driver (*.xls, *.xlsx, *.xlsm, *.xlsb)',\n",
       " 'Microsoft Access Text Driver (*.txt, *.csv)']"
      ]
     },
     "execution_count": 15,
     "metadata": {},
     "output_type": "execute_result"
    }
   ],
   "source": [
    "import pyodbc\n",
    "\n",
    "pyodbc.drivers()"
   ]
  },
  {
   "cell_type": "code",
   "execution_count": null,
   "id": "1453b5ee-8f21-4c64-9a00-bae18f045903",
   "metadata": {},
   "outputs": [],
   "source": [
    "con = pyodbc.connect(\"Driver={ODBC Driver 17 for SQL Server};Server=localhost;Database=AdventureWorks2012;Trusted_Connection=yes;\")"
   ]
  },
  {
   "cell_type": "code",
   "execution_count": null,
   "id": "73f1bab0-5e84-4450-8fd3-82d02f3cacb3",
   "metadata": {},
   "outputs": [],
   "source": [
    "df = pd.read_sql_query(\" SELECT Name, Color FROM Production.Product WHERE ListPrice > 0 \", con)\n",
    "\n",
    "df.head()"
   ]
  },
  {
   "cell_type": "markdown",
   "id": "9f306b03-d796-42bc-bf33-76340dd20167",
   "metadata": {},
   "source": [
    "### sqlalchemy"
   ]
  },
  {
   "cell_type": "code",
   "execution_count": 18,
   "id": "40cb049c-f429-4cc3-a094-05903b3d9fa3",
   "metadata": {},
   "outputs": [],
   "source": [
    "import sqlalchemy as sqla"
   ]
  },
  {
   "cell_type": "code",
   "execution_count": null,
   "id": "d9e7d2d9",
   "metadata": {},
   "outputs": [],
   "source": [
    "#engine oluşturmak gerekli\n",
    "#!!!! ?Trusted_Connected=True ifadesini kaldırıyoruz.\n",
    "con = sqla.create_engine(\"mssql+pyodbc://localhost/AdventureWorks2012?driver=ODBC Driver 17 for SQL Server\")"
   ]
  },
  {
   "cell_type": "code",
   "execution_count": null,
   "id": "765d0504-b48b-4d6b-b7a9-23b0212fcf9b",
   "metadata": {},
   "outputs": [],
   "source": [
    "con.table_names(schema=\"Production\")"
   ]
  },
  {
   "cell_type": "code",
   "execution_count": null,
   "id": "55016d86-fd7e-478e-af14-3edefa184d50",
   "metadata": {},
   "outputs": [],
   "source": [
    "#1.\n",
    "pd.read_sql_query(\"SELECT Name, Color, ListPrice FROM Production.Product WHERE ListPrice>0\",con).head()\n",
    "\n",
    "#2.\n",
    "pd.read_sql(\"SELECT Name, Color, ListPrice FROM Production.Product WHERE ListPrice>0\",con).head()\n",
    "\n",
    "#3.\n",
    "#pd.read_sql_table(schema=\"Production\", table_name=\"Product\",con=con).head()"
   ]
  },
  {
   "cell_type": "markdown",
   "id": "16458f1b-22d5-4d23-8b89-e4ddd3c608f4",
   "metadata": {},
   "source": [
    "### Veritabanına yazma"
   ]
  },
  {
   "cell_type": "code",
   "execution_count": 14,
   "id": "78566b8e-6893-41fd-9614-b911a40e3c58",
   "metadata": {},
   "outputs": [
    {
     "name": "stdout",
     "output_type": "stream",
     "text": [
      "<class 'pandas.core.frame.DataFrame'>\n",
      "RangeIndex: 3 entries, 0 to 2\n",
      "Data columns (total 5 columns):\n",
      " #   Column  Non-Null Count  Dtype  \n",
      "---  ------  --------------  -----  \n",
      " 0   Ad      3 non-null      object \n",
      " 1   Soyad   3 non-null      object \n",
      " 2   Yas     3 non-null      int64  \n",
      " 3   Tarih   2 non-null      object \n",
      " 4   Kilo    1 non-null      float64\n",
      "dtypes: float64(1), int64(1), object(3)\n",
      "memory usage: 248.0+ bytes\n"
     ]
    }
   ],
   "source": [
    "kisiler = pd.read_csv(\"databases/kisiler.csv\")\n",
    "kisiler.head(2)\n",
    "kisiler.info()"
   ]
  },
  {
   "cell_type": "code",
   "execution_count": null,
   "id": "24403ea8",
   "metadata": {},
   "outputs": [],
   "source": [
    "kisiler.to_sql(name=\"gtrKisiler\", schema=\"dbo\",con=coon)"
   ]
  },
  {
   "cell_type": "markdown",
   "id": "b8ff6484-92dc-461c-985d-043d8c46b723",
   "metadata": {
    "tags": []
   },
   "source": [
    "### style ve option\n",
    "* dataframe görünümünü değiştirmemizi sağlar.\n",
    "* https://pandas.pydata.org/docs/user_guide/style.html"
   ]
  },
  {
   "cell_type": "code",
   "execution_count": 22,
   "id": "50da6c02-5231-4c65-ba2e-481ea45068ca",
   "metadata": {},
   "outputs": [
    {
     "data": {
      "text/plain": [
       "['chop_threshold',\n",
       " 'colheader_justify',\n",
       " 'column_space',\n",
       " 'date_dayfirst',\n",
       " 'date_yearfirst',\n",
       " 'encoding',\n",
       " 'expand_frame_repr',\n",
       " 'float_format',\n",
       " 'html',\n",
       " 'large_repr',\n",
       " 'latex',\n",
       " 'max_categories',\n",
       " 'max_columns',\n",
       " 'max_colwidth',\n",
       " 'max_info_columns',\n",
       " 'max_info_rows',\n",
       " 'max_rows',\n",
       " 'max_seq_items',\n",
       " 'memory_usage',\n",
       " 'min_rows',\n",
       " 'multi_sparse',\n",
       " 'notebook_repr_html',\n",
       " 'pprint_nest_depth',\n",
       " 'precision',\n",
       " 'show_dimensions',\n",
       " 'unicode',\n",
       " 'width']"
      ]
     },
     "execution_count": 22,
     "metadata": {},
     "output_type": "execute_result"
    }
   ],
   "source": [
    "dir(pd.options.display)"
   ]
  },
  {
   "cell_type": "code",
   "execution_count": 23,
   "id": "009441b0-8823-4c18-9be7-872a89dd7827",
   "metadata": {},
   "outputs": [
    {
     "data": {
      "text/html": [
       "<div>\n",
       "<style scoped>\n",
       "    .dataframe tbody tr th:only-of-type {\n",
       "        vertical-align: middle;\n",
       "    }\n",
       "\n",
       "    .dataframe tbody tr th {\n",
       "        vertical-align: top;\n",
       "    }\n",
       "\n",
       "    .dataframe thead th {\n",
       "        text-align: right;\n",
       "    }\n",
       "</style>\n",
       "<table border=\"1\" class=\"dataframe\">\n",
       "  <thead>\n",
       "    <tr style=\"text-align: right;\">\n",
       "      <th></th>\n",
       "      <th>Soyad</th>\n",
       "      <th>Yas</th>\n",
       "      <th>Tarih</th>\n",
       "      <th>Kilo</th>\n",
       "    </tr>\n",
       "    <tr>\n",
       "      <th>Ad</th>\n",
       "      <th></th>\n",
       "      <th></th>\n",
       "      <th></th>\n",
       "      <th></th>\n",
       "    </tr>\n",
       "  </thead>\n",
       "  <tbody>\n",
       "    <tr>\n",
       "      <th>Ahmet</th>\n",
       "      <td>Örnek</td>\n",
       "      <td>80</td>\n",
       "      <td>2022-03-24</td>\n",
       "      <td>70.19</td>\n",
       "    </tr>\n",
       "    <tr>\n",
       "      <th>Ümit</th>\n",
       "      <td>Veri</td>\n",
       "      <td>55</td>\n",
       "      <td>2022-03-23</td>\n",
       "      <td>NaN</td>\n",
       "    </tr>\n",
       "    <tr>\n",
       "      <th>Veli</th>\n",
       "      <td>Çalışkan</td>\n",
       "      <td>30</td>\n",
       "      <td>NaT</td>\n",
       "      <td>NaN</td>\n",
       "    </tr>\n",
       "  </tbody>\n",
       "</table>\n",
       "</div>"
      ],
      "text/plain": [
       "          Soyad  Yas      Tarih  Kilo\n",
       "Ad                                   \n",
       "Ahmet     Örnek   80 2022-03-24 70.19\n",
       "Ümit       Veri   55 2022-03-23   NaN\n",
       "Veli   Çalışkan   30        NaT   NaN"
      ]
     },
     "execution_count": 23,
     "metadata": {},
     "output_type": "execute_result"
    }
   ],
   "source": [
    "pd.options.display.float_format = \"{:,.2f}\".format\n",
    "\n",
    "df"
   ]
  },
  {
   "cell_type": "code",
   "execution_count": 24,
   "id": "5375cb09-6e6b-4877-9c1d-6551b0a8c67e",
   "metadata": {},
   "outputs": [
    {
     "data": {
      "text/html": [
       "<div>\n",
       "<style scoped>\n",
       "    .dataframe tbody tr th:only-of-type {\n",
       "        vertical-align: middle;\n",
       "    }\n",
       "\n",
       "    .dataframe tbody tr th {\n",
       "        vertical-align: top;\n",
       "    }\n",
       "\n",
       "    .dataframe thead th {\n",
       "        text-align: right;\n",
       "    }\n",
       "</style>\n",
       "<table border=\"1\" class=\"dataframe\">\n",
       "  <thead>\n",
       "    <tr style=\"text-align: right;\">\n",
       "      <th></th>\n",
       "      <th>Soyad</th>\n",
       "      <th>Yas</th>\n",
       "      <th>Tarih</th>\n",
       "      <th>Kilo</th>\n",
       "    </tr>\n",
       "    <tr>\n",
       "      <th>Ad</th>\n",
       "      <th></th>\n",
       "      <th></th>\n",
       "      <th></th>\n",
       "      <th></th>\n",
       "    </tr>\n",
       "  </thead>\n",
       "  <tbody>\n",
       "    <tr>\n",
       "      <th>Ahmet</th>\n",
       "      <td>Örnek</td>\n",
       "      <td>80</td>\n",
       "      <td>2022-03-24</td>\n",
       "      <td>70.19</td>\n",
       "    </tr>\n",
       "    <tr>\n",
       "      <th>Ümit</th>\n",
       "      <td>Veri</td>\n",
       "      <td>55</td>\n",
       "      <td>2022-03-23</td>\n",
       "      <td>NaN</td>\n",
       "    </tr>\n",
       "    <tr>\n",
       "      <th>Veli</th>\n",
       "      <td>Çalışkan</td>\n",
       "      <td>30</td>\n",
       "      <td>NaT</td>\n",
       "      <td>NaN</td>\n",
       "    </tr>\n",
       "  </tbody>\n",
       "</table>\n",
       "</div>"
      ],
      "text/plain": [
       "          Soyad  Yas      Tarih  Kilo\n",
       "Ad                                   \n",
       "Ahmet     Örnek   80 2022-03-24 70.19\n",
       "Ümit       Veri   55 2022-03-23   NaN\n",
       "Veli   Çalışkan   30        NaT   NaN"
      ]
     },
     "execution_count": 24,
     "metadata": {},
     "output_type": "execute_result"
    }
   ],
   "source": [
    "pd.set_option(\"display.max_row\", None)\n",
    "df"
   ]
  },
  {
   "cell_type": "code",
   "execution_count": null,
   "id": "b5462345-5da8-4750-8f4a-d2f32b85c221",
   "metadata": {},
   "outputs": [],
   "source": [
    "#stype\n",
    "#dir(df.style)\n",
    "\n",
    "#\n",
    "#df.style.format(\"\")\n",
    "#df.style.highlight_null(null_color=\"yellow\",subset=\"Color\")\n",
    "#df.style.bar(axis=0, subset=\"ListPrice\")\n",
    "\n",
    "#df.style.highlight_max(subset=\"ListPrice\", color=\"red\", axis=0)"
   ]
  }
 ],
 "metadata": {
  "kernelspec": {
   "display_name": "Python 3 (ipykernel)",
   "language": "python",
   "name": "python3"
  },
  "language_info": {
   "codemirror_mode": {
    "name": "ipython",
    "version": 3
   },
   "file_extension": ".py",
   "mimetype": "text/x-python",
   "name": "python",
   "nbconvert_exporter": "python",
   "pygments_lexer": "ipython3",
   "version": "3.10.1"
  }
 },
 "nbformat": 4,
 "nbformat_minor": 5
}
